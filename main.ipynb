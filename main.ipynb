import pandas as pd

data_fram = pd.read_csv("imdb_master.csv", sep=",")
data_fram.head()
