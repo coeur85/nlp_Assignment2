{
 "cells": [
  {
   "cell_type": "code",
   "execution_count": null,
   "metadata": {},
   "outputs": [
    {
     "ename": "",
     "evalue": "",
     "output_type": "error",
     "traceback": [
      "\u001b[1;31mFailed to start the Kernel. \n",
      "\u001b[1;31mUnable to start Kernel 'Python 3.10.8' due to a timeout waiting for the ports to get used. \n",
      "\u001b[1;31mView Jupyter <a href='command:jupyter.viewOutput'>log</a> for further details."
     ]
    }
   ],
   "source": [
    "import pandas as pd\n",
    "import re  # regex\n",
    "import string\n",
    "import nltk\n",
    "from nltk.corpus import stopwords\n",
    "from nltk.stem import PorterStemmer\n",
    "from nltk.stem import WordNetLemmatizer\n",
    "from nltk.tokenize import word_tokenize\n",
    "from sklearn.feature_extraction.text import TfidfVectorizer\n",
    "from sklearn.naive_bayes import MultinomialNB\n",
    "from sklearn.metrics import accuracy_score\n",
    "from sklearn.preprocessing import LabelEncoder\n",
    "from sklearn.model_selection import train_test_split"
   ]
  },
  {
   "cell_type": "code",
   "execution_count": null,
   "metadata": {},
   "outputs": [
    {
     "ename": "",
     "evalue": "",
     "output_type": "error",
     "traceback": [
      "\u001b[1;31mFailed to start the Kernel. \n",
      "\u001b[1;31mUnable to start Kernel 'Python 3.10.8' due to a timeout waiting for the ports to get used. \n",
      "\u001b[1;31mView Jupyter <a href='command:jupyter.viewOutput'>log</a> for further details."
     ]
    }
   ],
   "source": [
    "# previewing iniail values\n",
    "df = pd.read_csv(\"imdb_master.csv\", sep=\",\", encoding=\"ISO-8859-1\")\n",
    "df.head()"
   ]
  },
  {
   "cell_type": "code",
   "execution_count": null,
   "metadata": {},
   "outputs": [
    {
     "ename": "",
     "evalue": "",
     "output_type": "error",
     "traceback": [
      "\u001b[1;31mFailed to start the Kernel. \n",
      "\u001b[1;31mUnable to start Kernel 'Python 3.10.8' due to a timeout waiting for the ports to get used. \n",
      "\u001b[1;31mView Jupyter <a href='command:jupyter.viewOutput'>log</a> for further details."
     ]
    }
   ],
   "source": [
    "# checking initail values\n",
    "print(df['type'].unique())\n",
    "print(df['label'].unique())"
   ]
  },
  {
   "cell_type": "code",
   "execution_count": null,
   "metadata": {},
   "outputs": [
    {
     "ename": "",
     "evalue": "",
     "output_type": "error",
     "traceback": [
      "\u001b[1;31mFailed to start the Kernel. \n",
      "\u001b[1;31mUnable to start Kernel 'Python 3.10.8' due to a timeout waiting for the ports to get used. \n",
      "\u001b[1;31mView Jupyter <a href='command:jupyter.viewOutput'>log</a> for further details."
     ]
    }
   ],
   "source": [
    "df = df.drop(df.columns[0], axis=1)\n",
    "df = df.drop(df.columns[3], axis=1)\n",
    "\n",
    "df"
   ]
  },
  {
   "cell_type": "code",
   "execution_count": null,
   "metadata": {},
   "outputs": [
    {
     "ename": "",
     "evalue": "",
     "output_type": "error",
     "traceback": [
      "\u001b[1;31mFailed to start the Kernel. \n",
      "\u001b[1;31mUnable to start Kernel 'Python 3.10.8' due to a timeout waiting for the ports to get used. \n",
      "\u001b[1;31mView Jupyter <a href='command:jupyter.viewOutput'>log</a> for further details."
     ]
    }
   ],
   "source": [
    "nltk.download(\"stopwords\")\n",
    "stop_words = stopwords.words(\"english\")\n",
    "CLEANR = re.compile(\"<.*?>|&([a-z0-9]+|#[0-9]{1,6}|#x[0-9a-f]{1,6});\")\n",
    "nltk.download(\"punkt\")\n",
    "ps = PorterStemmer()\n",
    "nltk.download(\"wordnet\")\n",
    "nltk.download(\"omw-1.4\")\n",
    "\n",
    "wnl = WordNetLemmatizer()\n",
    "\n",
    "def remove_stop_words(sentence):\n",
    "    # Split the sentence into individual words\n",
    "    words = sentence.split()\n",
    "    # Use a list comprehension to remove stop words\n",
    "    filtered_words = [word for word in words if word not in stop_words]\n",
    "    # Join the filtered words back into a sentence\n",
    "    return \" \".join(filtered_words)\n",
    "\n",
    "\n",
    "def remove_html_tags(sentence):\n",
    "    return re.sub(CLEANR, \"\", sentence)\n",
    "\n",
    "\n",
    "def remove_punctuation(sentence):\n",
    "    return sentence.translate(str.maketrans(\"\", \"\", string.punctuation))\n",
    "\n",
    "\n",
    "def remove_none_words(sentence):\n",
    "    sentence = re.sub(r\"[0-9]+\", \"\", sentence)\n",
    "    return re.sub(r\"\\W+\", \" \", sentence)\n",
    "\n",
    "\n",
    "def apply_stemmer(sentence):\n",
    "    return ps.stem(sentence)\n",
    "\n",
    "\n",
    "def apply_lemmatization(sentence):\n",
    "    return wnl.lemmatize(sentence)\n",
    "\n",
    "\n",
    "def get_words_tokens(sentence):\n",
    "    words_tokens = word_tokenize(sentence)\n",
    "    new_text = \" \".join([wnl.lemmatize(ps.stem(word)) for word in words_tokens] )\n",
    "    return new_text"
   ]
  },
  {
   "cell_type": "code",
   "execution_count": null,
   "metadata": {},
   "outputs": [
    {
     "ename": "",
     "evalue": "",
     "output_type": "error",
     "traceback": [
      "\u001b[1;31mFailed to start the Kernel. \n",
      "\u001b[1;31mUnable to start Kernel 'Python 3.10.8' due to a timeout waiting for the ports to get used. \n",
      "\u001b[1;31mView Jupyter <a href='command:jupyter.viewOutput'>log</a> for further details."
     ]
    }
   ],
   "source": [
    "# rows data clean\n",
    "review_token = []\n",
    "for index, row in df.iterrows():\n",
    "    row[\"review\"] = remove_html_tags(row[\"review\"])\n",
    "    row[\"review\"] = remove_punctuation(row[\"review\"])\n",
    "    row[\"review\"] = remove_stop_words(row[\"review\"])\n",
    "    row[\"review\"] = remove_none_words(row[\"review\"])\n",
    "    row[\"review\"] = row[\"review\"].lower()\n",
    "    row[\"review\"] = apply_stemmer(row[\"review\"])\n",
    "    row[\"review\"] = apply_lemmatization(row[\"review\"])\n",
    "    row[\"review\"] = get_words_tokens(row[\"review\"])\n",
    "\n",
    "df.head()"
   ]
  },
  {
   "cell_type": "code",
   "execution_count": null,
   "metadata": {},
   "outputs": [
    {
     "ename": "",
     "evalue": "",
     "output_type": "error",
     "traceback": [
      "\u001b[1;31mFailed to start the Kernel. \n",
      "\u001b[1;31mUnable to start Kernel 'Python 3.10.8' due to a timeout waiting for the ports to get used. \n",
      "\u001b[1;31mView Jupyter <a href='command:jupyter.viewOutput'>log</a> for further details."
     ]
    }
   ],
   "source": [
    "x_train, x_test, y_train, y_test = train_test_split(df[\"review\"], df[\"label\"], test_size=0.1)\n",
    "tfidf = TfidfVectorizer(norm=None, smooth_idf=False)\n",
    "\n",
    "# train_data = df.query('type == \"train\"')\n",
    "# test_data = df.query('type == \"test\"')\n",
    "\n",
    "# x_train = train_data[\"review_token\"]\n",
    "# y_train = train_data[\"label\"]\n",
    "\n",
    "# x_test = test_data[\"review_token\"]\n",
    "# y_test = test_data[\"label\"]\n",
    "\n",
    "\n",
    "x_train_victor = tfidf.fit_transform(x_train)\n",
    "x_test_victor = tfidf.transform(x_test)\n",
    "\n",
    "clf = MultinomialNB()\n",
    "clf.fit(x_train_victor, y_train)"
   ]
  }
 ],
 "metadata": {
  "kernelspec": {
   "display_name": "Python 3",
   "language": "python",
   "name": "python3"
  },
  "language_info": {
   "codemirror_mode": {
    "name": "ipython",
    "version": 3
   },
   "file_extension": ".py",
   "mimetype": "text/x-python",
   "name": "python",
   "nbconvert_exporter": "python",
   "pygments_lexer": "ipython3",
   "version": "3.0.0"
  }
 },
 "nbformat": 4,
 "nbformat_minor": 2
}
